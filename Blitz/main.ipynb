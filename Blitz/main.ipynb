{
 "cells": [
  {
   "cell_type": "code",
   "execution_count": null,
   "metadata": {},
   "outputs": [],
   "source": [
    "import pandas as pd\n",
    "\n",
    "file_path = \"C:/Users/jihoo/Blitz/order_report__2.xlsx\"\n",
    "df = pd.read_excel(file_path)\n",
    "df.head()"
   ]
  },
  {
   "cell_type": "code",
   "execution_count": null,
   "metadata": {},
   "outputs": [],
   "source": [
    "df.describe()"
   ]
  },
  {
   "cell_type": "code",
   "execution_count": null,
   "metadata": {},
   "outputs": [],
   "source": [
    "df.info()"
   ]
  },
  {
   "cell_type": "code",
   "execution_count": null,
   "metadata": {},
   "outputs": [],
   "source": [
    "# 결측치 확인\n",
    "missing_data = df.isnull().sum()\n",
    "print(missing_data)\n"
   ]
  },
  {
   "cell_type": "code",
   "execution_count": null,
   "metadata": {},
   "outputs": [],
   "source": [
    "# 결측치 비율 확인\n",
    "missing_percentage = (df.isnull().sum() / len(df)) * 100\n",
    "print(missing_percentage)"
   ]
  },
  {
   "cell_type": "code",
   "execution_count": null,
   "metadata": {},
   "outputs": [],
   "source": [
    "import seaborn as sns\n",
    "import matplotlib.pyplot as plt\n",
    "\n",
    "# Weight 분포\n",
    "sns.histplot(df['Weight'], bins=20, kde=True)\n",
    "plt.title('Weight Distribution')\n",
    "plt.show()\n",
    "\n",
    "# Service Type 분포\n",
    "sns.countplot(data=df, x='Service Type')\n",
    "plt.title('Service Type Distribution')\n",
    "plt.show()\n",
    "\n",
    "# Payment Type 분포\n",
    "sns.countplot(data=df, x='Payment Type')\n",
    "plt.title('Payment Type Distribution')\n",
    "plt.show()\n"
   ]
  },
  {
   "cell_type": "code",
   "execution_count": null,
   "metadata": {},
   "outputs": [],
   "source": [
    "pip install geopy\n"
   ]
  },
  {
   "cell_type": "code",
   "execution_count": null,
   "metadata": {},
   "outputs": [],
   "source": [
    "# df_selected가 기존의 데이터프레임이라면 이를 정의해 주세요\n",
    "# 예를 들어 df라는 데이터프레임이 이미 존재할 경우 이를 df_selected로 정의합니다.\n",
    "df_selected = df.copy()  # 혹은 실제 데이터를 불러오는 코드 사용\n",
    "\n",
    "# 결측치가 없는 행만 선택하여 df_filtered 생성\n",
    "df_filtered = df_selected.dropna(subset=['Created At', 'Dropoff done at'])\n",
    "\n",
    "# 'Created At'과 'Dropoff done at'을 datetime 형식으로 변환\n",
    "df_filtered['Created At'] = pd.to_datetime(df_filtered['Created At'])\n",
    "df_filtered['Dropoff done at'] = pd.to_datetime(df_filtered['Dropoff done at'], errors='coerce')\n",
    "\n",
    "# 배달 시간 계산 (시간 차이)\n",
    "df_filtered['delivery_time'] = (df_filtered['Dropoff done at'] - df_filtered['Created At']).dt.total_seconds() / 3600\n",
    "\n",
    "# 배달 시간의 분포 확인\n",
    "sns.histplot(df_filtered['delivery_time'].dropna(), bins=20)\n",
    "plt.title('Delivery Time Distribution (Hours)')\n",
    "plt.xlabel('Delivery Time (Hours)')\n",
    "plt.ylabel('Frequency')\n",
    "plt.show()\n"
   ]
  },
  {
   "cell_type": "code",
   "execution_count": null,
   "metadata": {},
   "outputs": [],
   "source": [
    "df.columns"
   ]
  },
  {
   "cell_type": "code",
   "execution_count": 10,
   "metadata": {},
   "outputs": [],
   "source": [
    "selected_columns = [\n",
    "    'AWB Number',              # 주문 번호 (식별자)\n",
    "    'Weight',                  # 화물 무게\n",
    "    'Service Type',            # 서비스 유형\n",
    "    'COD Amount',              # COD 여부 및 금액\n",
    "    'Sender Latitude',         # 발송자 위치 (위도)\n",
    "    'Sender Longitude',        # 발송자 위치 (경도)\n",
    "    'Consignee Latitude',      # 수령자 위치 (위도)\n",
    "    'Consignee Longitude',     # 수령자 위치 (경도)\n",
    "    'Created At',              # 주문 생성 시간\n",
    "    'Dropoff done at',         # 드롭오프 완료 시간\n",
    "    'Pickup done At (1st Attempt)', # 첫 픽업 시도 시간\n",
    "    'Status (Internal)',       # 주문 상태\n",
    "    'Failed Reason',           # 실패 이유 (선택 사항)\n",
    "]\n",
    "df_selected = df[selected_columns]\n"
   ]
  },
  {
   "cell_type": "code",
   "execution_count": null,
   "metadata": {},
   "outputs": [],
   "source": [
    "import pandas as pd\n",
    "\n",
    "# 시간 변수를 datetime 형식으로 변환\n",
    "df_selected['Created At'] = pd.to_datetime(df_selected['Created At'])\n",
    "df_selected['Dropoff done at'] = pd.to_datetime(df_selected['Dropoff done at'], errors='coerce')\n",
    "\n",
    "# 배달 소요 시간 계산 (드롭오프 완료 시간 - 주문 생성 시간)\n",
    "df_selected['delivery_time_hours'] = (df_selected['Dropoff done at'] - df_selected['Created At']).dt.total_seconds() / 3600\n",
    "\n",
    "# 배달 소요 시간 분포 확인\n",
    "import seaborn as sns\n",
    "import matplotlib.pyplot as plt\n",
    "\n",
    "sns.histplot(df_selected['delivery_time_hours'].dropna(), bins=20)\n",
    "plt.title('Delivery Time Distribution (Hours)')\n",
    "plt.xlabel('Delivery Time (Hours)')\n",
    "plt.ylabel('Frequency')\n",
    "plt.show()\n"
   ]
  },
  {
   "cell_type": "code",
   "execution_count": null,
   "metadata": {},
   "outputs": [],
   "source": [
    "from geopy.distance import geodesic  # geodesic 함수 임포트\n",
    "import seaborn as sns\n",
    "import pandas as pd\n",
    "\n",
    "# 결측치가 없는 행만 선택\n",
    "df_filtered = df_selected.dropna(subset=['Sender Latitude', 'Sender Longitude', 'Consignee Latitude', 'Consignee Longitude'])\n",
    "\n",
    "# 거리 계산 (픽업 지점과 드롭오프 지점 간의 거리, km 단위)\n",
    "df_filtered['distance_km'] = df_filtered.apply(\n",
    "    lambda row: geodesic(\n",
    "        (row['Sender Latitude'], row['Sender Longitude']),\n",
    "        (row['Consignee Latitude'], row['Consignee Longitude'])\n",
    "    ).km, axis=1)\n",
    "\n",
    "# 거리 분포 확인\n",
    "sns.histplot(df_filtered['distance_km'], bins=20)\n",
    "plt.title('Distance Distribution (KM)')\n",
    "plt.xlabel('Distance (KM)')\n",
    "plt.ylabel('Frequency')\n",
    "plt.show()\n"
   ]
  },
  {
   "cell_type": "code",
   "execution_count": null,
   "metadata": {},
   "outputs": [],
   "source": [
    "# 거리 데이터 통계 확인\n",
    "print(df_filtered['distance_km'].describe())\n",
    "\n",
    "# 박스 플롯으로 이상치 시각화\n",
    "sns.boxplot(df_filtered['distance_km'])\n",
    "plt.title('Distance Distribution with Outliers')\n",
    "plt.xlabel('Distance (KM)')\n",
    "plt.show()\n"
   ]
  },
  {
   "cell_type": "code",
   "execution_count": null,
   "metadata": {},
   "outputs": [],
   "source": [
    "# 거리가 0km 또는 비현실적으로 큰 값을 제거 (예: 1km 이상 1000km 미만으로 제한)\n",
    "df_filtered = df_filtered[(df_filtered['distance_km'] > 0) & (df_filtered['distance_km'] < 1000)]\n",
    "\n",
    "# 이상치 제거 후 거리 분포 재시각화\n",
    "sns.histplot(df_filtered['distance_km'], bins=20)\n",
    "plt.title('Distance Distribution (KM) After Outlier Removal')\n",
    "plt.xlabel('Distance (KM)')\n",
    "plt.ylabel('Frequency')\n",
    "plt.show()\n"
   ]
  },
  {
   "cell_type": "code",
   "execution_count": null,
   "metadata": {},
   "outputs": [],
   "source": [
    "from sklearn.cluster import KMeans\n",
    "\n",
    "# 클러스터링을 위한 데이터 선택 (무게와 거리를 사용)\n",
    "X = df_filtered[['Weight', 'distance_km']].dropna()\n",
    "\n",
    "# K-Means 클러스터링 모델 적용\n",
    "kmeans = KMeans(n_clusters=3)\n",
    "df_filtered['cluster'] = kmeans.fit_predict(X)\n",
    "\n",
    "# 클러스터 시각화\n",
    "sns.scatterplot(data=df_filtered, x='Weight', y='distance_km', hue='cluster', palette='viridis')\n",
    "plt.title('Clustering of Cargo by Weight and Distance')\n",
    "plt.xlabel('Weight')\n",
    "plt.ylabel('Distance (KM)')\n",
    "plt.show()\n"
   ]
  },
  {
   "cell_type": "code",
   "execution_count": null,
   "metadata": {},
   "outputs": [],
   "source": [
    "# 클러스터별 통계 요약\n",
    "cluster_stats = df_filtered.groupby('cluster').agg({\n",
    "    'Weight': ['mean', 'median', 'std'],\n",
    "    'distance_km': ['mean', 'median', 'std']\n",
    "})\n",
    "print(cluster_stats)\n"
   ]
  },
  {
   "cell_type": "code",
   "execution_count": null,
   "metadata": {},
   "outputs": [],
   "source": [
    "# 클러스터별 무게 분포\n",
    "sns.boxplot(data=df_filtered, x='cluster', y='Weight')\n",
    "plt.title('Weight Distribution by Cluster')\n",
    "plt.show()\n",
    "\n",
    "# 클러스터별 거리 분포\n",
    "sns.boxplot(data=df_filtered, x='cluster', y='distance_km')\n",
    "plt.title('Distance Distribution by Cluster')\n",
    "plt.show()\n"
   ]
  },
  {
   "cell_type": "code",
   "execution_count": null,
   "metadata": {},
   "outputs": [],
   "source": [
    "# 클러스터 0 데이터만 필터링\n",
    "df_cluster_0 = df_filtered[df_filtered['cluster'] == 0]\n",
    "\n",
    "# 클러스터 0 데이터 확인\n",
    "print(df_cluster_0.head())\n"
   ]
  },
  {
   "cell_type": "code",
   "execution_count": null,
   "metadata": {},
   "outputs": [],
   "source": [
    "# 클러스터 0의 무게와 거리 통계\n",
    "cluster_0_stats = df_cluster_0[['Weight', 'distance_km']].describe()\n",
    "print(cluster_0_stats)\n",
    "\n",
    "# 클러스터 0의 무게 분포 시각화\n",
    "sns.histplot(df_cluster_0['Weight'], bins=20)\n",
    "plt.title('Weight Distribution in Cluster 0')\n",
    "plt.xlabel('Weight')\n",
    "plt.ylabel('Frequency')\n",
    "plt.show()\n",
    "\n",
    "# 클러스터 0의 거리 분포 시각화\n",
    "sns.histplot(df_cluster_0['distance_km'], bins=20)\n",
    "plt.title('Distance Distribution in Cluster 0')\n",
    "plt.xlabel('Distance (KM)')\n",
    "plt.ylabel('Frequency')\n",
    "plt.show()\n"
   ]
  },
  {
   "cell_type": "code",
   "execution_count": null,
   "metadata": {},
   "outputs": [],
   "source": [
    "import numpy as np\n",
    "from geopy.distance import geodesic\n",
    "\n",
    "# 자카르타 내 임의의 라이더 좌표 생성 (위도 및 경도 범위 지정)\n",
    "num_riders = len(df_cluster_0)  # 클러스터 0의 데이터 수에 맞춰 라이더 수 생성\n",
    "np.random.seed(42)  # 재현 가능한 결과를 위해 시드 설정\n",
    "\n",
    "# 자카르타 내 위도 및 경도 범위에서 임의 좌표 생성\n",
    "rider_latitudes = np.random.uniform(low=-6.3670, high=-6.1256, size=num_riders)\n",
    "rider_longitudes = np.random.uniform(low=106.7200, high=106.9900, size=num_riders)\n",
    "\n",
    "# 라이더 위치를 데이터프레임에 추가\n",
    "df_cluster_0['rider_latitude'] = rider_latitudes\n",
    "df_cluster_0['rider_longitude'] = rider_longitudes\n",
    "\n",
    "# 라이더와 픽업 지점 간의 거리 계산 (km 단위)\n",
    "df_cluster_0['rider_to_pickup_distance'] = df_cluster_0.apply(\n",
    "    lambda row: geodesic(\n",
    "        (row['rider_latitude'], row['rider_longitude']),\n",
    "        (row['Sender Latitude'], row['Sender Longitude'])\n",
    "    ).km, axis=1)\n",
    "\n",
    "# 라이더와 픽업 지점 간 거리 분포 시각화\n",
    "sns.histplot(df_cluster_0['rider_to_pickup_distance'], bins=20)\n",
    "plt.title('Distance from Rider to Pickup Location (KM)')\n",
    "plt.xlabel('Distance (KM)')\n",
    "plt.ylabel('Frequency')\n",
    "plt.show()\n"
   ]
  },
  {
   "cell_type": "code",
   "execution_count": null,
   "metadata": {},
   "outputs": [],
   "source": [
    "pip install google-maps-routeoptimization\n"
   ]
  },
  {
   "cell_type": "code",
   "execution_count": null,
   "metadata": {},
   "outputs": [],
   "source": [
    "pip install google-cloud-storage\n"
   ]
  },
  {
   "cell_type": "code",
   "execution_count": null,
   "metadata": {},
   "outputs": [],
   "source": [
    "import numpy as np\n",
    "\n",
    "# Cluster 0에 해당하는 데이터프레임이 df_cluster_0이라고 가정\n",
    "# Cluster 0에 라이더 좌표 추가\n",
    "\n",
    "# 자카르타 내 임의의 라이더 좌표 생성 (위도 및 경도 범위 지정)\n",
    "num_riders = len(df_cluster_0)  # Cluster 0의 데이터 수에 맞춰 라이더 수 생성\n",
    "np.random.seed(42)  # 재현 가능한 결과를 위해 시드 설정\n",
    "\n",
    "# 자카르타 내 위도 및 경도 범위에서 임의 좌표 생성\n",
    "rider_latitudes = np.random.uniform(low=-6.3670, high=-6.1256, size=num_riders)\n",
    "rider_longitudes = np.random.uniform(low=106.7200, high=106.9900, size=num_riders)\n",
    "\n",
    "# 라이더 위치를 데이터프레임에 추가\n",
    "df_cluster_0['rider_latitude'] = rider_latitudes\n",
    "df_cluster_0['rider_longitude'] = rider_longitudes\n",
    "\n",
    "# 좌표가 잘 추가되었는지 확인\n",
    "print(df_cluster_0[['rider_latitude', 'rider_longitude']].head())\n"
   ]
  },
  {
   "cell_type": "code",
   "execution_count": 24,
   "metadata": {},
   "outputs": [],
   "source": [
    "from google.cloud import storage\n",
    "\n",
    "# 프로젝트 ID 수동으로 설정\n",
    "client = storage.Client(project=\"341524124675\")  # 'your-project-id'를 실제 프로젝트 ID로 대체\n",
    "\n",
    "# 버킷 리스트 가져오기\n",
    "buckets = list(client.list_buckets())\n",
    "\n",
    "# 버킷 이름 출력\n",
    "for bucket in buckets:\n",
    "    print(bucket.name)\n"
   ]
  },
  {
   "cell_type": "code",
   "execution_count": 25,
   "metadata": {},
   "outputs": [],
   "source": [
    "from google.maps import routeoptimization_v1 as ro\n",
    "from google.type import latlng_pb2 as latlng  # LatLng를 가져오기\n",
    "\n",
    "# 샘플 데이터를 추출하여 df_sample 생성 (예: 100개의 샘플 데이터 사용)\n",
    "df_sample = df_cluster_0.sample(10, random_state=42)"
   ]
  },
  {
   "cell_type": "code",
   "execution_count": null,
   "metadata": {},
   "outputs": [],
   "source": [
    "pip install google-maps-routeoptimization\n"
   ]
  },
  {
   "cell_type": "code",
   "execution_count": null,
   "metadata": {},
   "outputs": [],
   "source": [
    "# 메서드 목록 출력\n",
    "print(dir(client))\n"
   ]
  },
  {
   "cell_type": "code",
   "execution_count": null,
   "metadata": {},
   "outputs": [],
   "source": [
    "pip install googlemaps\n"
   ]
  },
  {
   "cell_type": "code",
   "execution_count": 82,
   "metadata": {},
   "outputs": [
    {
     "name": "stdout",
     "output_type": "stream",
     "text": [
      "Collecting python-dotenv\n",
      "  Using cached python_dotenv-1.0.1-py3-none-any.whl.metadata (23 kB)\n",
      "Using cached python_dotenv-1.0.1-py3-none-any.whl (19 kB)\n",
      "Installing collected packages: python-dotenv\n",
      "Successfully installed python-dotenv-1.0.1\n",
      "Note: you may need to restart the kernel to use updated packages.\n"
     ]
    },
    {
     "name": "stderr",
     "output_type": "stream",
     "text": [
      "  WARNING: The script dotenv.exe is installed in 'c:\\Users\\jihoo\\AppData\\Local\\Programs\\Python\\Python311\\Scripts' which is not on PATH.\n",
      "  Consider adding this directory to PATH or, if you prefer to suppress this warning, use --no-warn-script-location.\n"
     ]
    }
   ],
   "source": [
    "pip install python-dotenv\n"
   ]
  },
  {
   "cell_type": "code",
   "execution_count": 83,
   "metadata": {},
   "outputs": [
    {
     "name": "stdout",
     "output_type": "stream",
     "text": [
      "[{'bounds': {'northeast': {'lat': -6.2203158, 'lng': 106.8969582}, 'southwest': {'lat': -6.388872699999999, 'lng': 106.7373652}}, 'copyrights': 'Map data ©2024 Google', 'legs': [{'distance': {'text': '8.2 km', 'value': 8223}, 'duration': {'text': '20 mins', 'value': 1212}, 'end_address': 'Jl. Dewi Sartika No.1, RT.5/RW.12, Kuningan, Cawang, Kec. Kramat jati, Kota Jakarta Timur, Daerah Khusus Ibukota Jakarta 13630, Indonesia', 'end_location': {'lat': -6.252152700000001, 'lng': 106.8646154}, 'start_address': 'Jl. H. R. Rasuna Said No.2, RT.2/RW.5, Karet Kuningan, Kecamatan Setiabudi, Kota Jakarta Selatan, Daerah Khusus Ibukota Jakarta 12940, Indonesia', 'start_location': {'lat': -6.2203158, 'lng': 106.8330094}, 'steps': [{'distance': {'text': '0.1 km', 'value': 104}, 'duration': {'text': '1 min', 'value': 42}, 'end_location': {'lat': -6.2208011, 'lng': 106.8324117}, 'html_instructions': 'Head <b>west</b>', 'polyline': {'points': '~{}d@iy`kSDb@@FRf@DJ@J@DDFHDB@F?JCJADC'}, 'start_location': {'lat': -6.2203158, 'lng': 106.8330094}, 'travel_mode': 'DRIVING'}, {'distance': {'text': '0.2 km', 'value': 246}, 'duration': {'text': '2 mins', 'value': 104}, 'end_location': {'lat': -6.221620000000001, 'lng': 106.833818}, 'html_instructions': 'Keep <b>left</b>', 'maneuver': 'keep-left', 'polyline': {'points': '~~}d@qu`kSBCFELIPELCFADAD?R?DAF?D?DAB?@?DA@?B?@?BAB?B?B@B?D@@?FCHCBEBG@GB_@EUQqAOmA'}, 'start_location': {'lat': -6.2208011, 'lng': 106.8324117}, 'travel_mode': 'DRIVING'}, {'distance': {'text': '0.1 km', 'value': 148}, 'duration': {'text': '1 min', 'value': 80}, 'end_location': {'lat': -6.2218754, 'lng': 106.8325067}, 'html_instructions': 'Make a <b>U-turn</b>', 'maneuver': 'uturn-right', 'polyline': {'points': 'bd~d@k~`kSNlAPpADTFl@B`@'}, 'start_location': {'lat': -6.221620000000001, 'lng': 106.833818}, 'travel_mode': 'DRIVING'}, {'distance': {'text': '84 m', 'value': 84}, 'duration': {'text': '1 min', 'value': 32}, 'end_location': {'lat': -6.2226104, 'lng': 106.8326855}, 'html_instructions': 'Turn <b>left</b> toward <b>Jl. H. R. Rasuna Said</b>', 'maneuver': 'turn-left', 'polyline': {'points': 've~d@ev`kSf@Iv@Mp@K'}, 'start_location': {'lat': -6.2218754, 'lng': 106.8325067}, 'travel_mode': 'DRIVING'}, {'distance': {'text': '1.6 km', 'value': 1632}, 'duration': {'text': '3 mins', 'value': 173}, 'end_location': {'lat': -6.2350787, 'lng': 106.8287367}, 'html_instructions': 'Keep <b>right</b> to continue on <b>Jl. H. R. Rasuna Said</b><div style=\"font-size:0.9em\">Pass by Palma One (on the left in 550m)</div>', 'maneuver': 'keep-right', 'polyline': {'points': 'hj~d@iw`kSBPlASXGVEZGPCPC\\\\EVCFAhAIf@C`A?PATAz@Cv@EnAEdDMt@CXARAR?DAZA`HUb@AZCR?N?\\\\@Z@R@ZBj@HNBXDtBd@b@JZHLBJDLDJDPFRHf@R\\\\Ph@Xb@V\\\\VbAv@n@n@f@h@RTRZRXR\\\\NVPZNZN\\\\Rh@Pf@Tj@Pj@DLHRJVHRp@dA'}, 'start_location': {'lat': -6.2226104, 'lng': 106.8326855}, 'travel_mode': 'DRIVING'}, {'distance': {'text': '0.2 km', 'value': 219}, 'duration': {'text': '1 min', 'value': 26}, 'end_location': {'lat': -6.236653400000001, 'lng': 106.8275556}, 'html_instructions': 'Slight <b>left</b> to stay on <b>Jl. H. R. Rasuna Said</b><div style=\"font-size:0.9em\">Pass by Tempo Scan Tower (on the left)</div>', 'maneuver': 'turn-slight-left', 'polyline': {'points': 'fx`e@s~_kSTTb@Zp@f@x@n@n@^XNj@Z\\\\T'}, 'start_location': {'lat': -6.2350787, 'lng': 106.8287367}, 'travel_mode': 'DRIVING'}, {'distance': {'text': '0.7 km', 'value': 654}, 'duration': {'text': '1 min', 'value': 78}, 'end_location': {'lat': -6.239815399999999, 'lng': 106.8325369}, 'html_instructions': 'Turn <b>left</b> onto <b>Jl. Gatot Subroto</b><div style=\"font-size:0.9em\">Pass by Graha Surveyor Indonesia (on the left in 600m)</div>', 'maneuver': 'turn-left', 'polyline': {'points': '`bae@gw_kSHM?At@oANYFMPYj@iAJSzAmC\\\\a@LKTe@PYPa@DGn@oATg@l@eAl@iAf@_AR]JUPa@R_@'}, 'start_location': {'lat': -6.236653400000001, 'lng': 106.8275556}, 'travel_mode': 'DRIVING'}, {'distance': {'text': '0.5 km', 'value': 478}, 'duration': {'text': '2 mins', 'value': 90}, 'end_location': {'lat': -6.241276999999999, 'lng': 106.8365542}, 'html_instructions': 'Take the ramp on the <b>right</b> to <b>Masuk</b>/<wbr/><b>JalanTol</b><div style=\"font-size:0.9em\">Toll road</div>', 'maneuver': 'ramp-right', 'polyline': {'points': 'zuae@kv`kSd@k@@ABCJSJULWL_@Pi@Ro@P{@DWXcBP_B@C?AF]He@`@iCLa@BMPW'}, 'start_location': {'lat': -6.239815399999999, 'lng': 106.8325369}, 'travel_mode': 'DRIVING'}, {'distance': {'text': '2.5 km', 'value': 2542}, 'duration': {'text': '3 mins', 'value': 168}, 'end_location': {'lat': -6.243093399999999, 'lng': 106.8592382}, 'html_instructions': 'Merge onto <b>Jl. Tol Cawang Grogol</b>/<wbr/><b>Jl. Tol Dalam Kota</b><div style=\"font-size:0.9em\">Toll road</div>', 'maneuver': 'merge', 'polyline': {'points': '~~ae@moakSbAsG@MT}APmApAeJHYP{@TeAd@oAXu@Pc@\\\\gANm@BOBUFe@F_A@c@H_CB_ANyG?qA?a@CsAAiACg@Ag@Cu@GyCKqFEaA?m@C_@Ao@CgBA_@?qBAc@?m@AsA?I?uA@sA?G?_A?w@?E@_BAeI?iGA]?Q?CAW?C?C?a@AAAyA'}, 'start_location': {'lat': -6.241276999999999, 'lng': 106.8365542}, 'travel_mode': 'DRIVING'}, {'distance': {'text': '0.2 km', 'value': 219}, 'duration': {'text': '1 min', 'value': 19}, 'end_location': {'lat': -6.2429133, 'lng': 106.8611896}, 'html_instructions': 'Take the exit toward <b>Cawang</b>/<wbr/><b>Halim</b>/<wbr/><b>K</b><div style=\"font-size:0.9em\">Toll road</div>', 'maneuver': 'ramp-left', 'polyline': {'points': 'hjbe@g}ekSCEAA?CAC?CAC?A?E?IAWA_@ASAUAg@Ay@?w@?]?U?KAGAGACACAACE'}, 'start_location': {'lat': -6.243093399999999, 'lng': 106.8592382}, 'travel_mode': 'DRIVING'}, {'distance': {'text': '0.3 km', 'value': 294}, 'duration': {'text': '1 min', 'value': 30}, 'end_location': {'lat': -6.242917599999999, 'lng': 106.8638468}, 'html_instructions': 'Merge onto <b>Jl. Letjen M.T. Haryono</b>', 'maneuver': 'merge', 'polyline': {'points': 'dibe@mifkS?O?e@AyA?m@?eB?Y?K?YA_AB_B@O'}, 'start_location': {'lat': -6.2429133, 'lng': 106.8611896}, 'travel_mode': 'DRIVING'}, {'distance': {'text': '0.4 km', 'value': 389}, 'duration': {'text': '1 min', 'value': 38}, 'end_location': {'lat': -6.2437911, 'lng': 106.8672411}, 'html_instructions': 'Continue straight to stay on <b>Jl. Letjen M.T. Haryono</b>', 'maneuver': 'straight', 'polyline': {'points': 'fibe@azfkSJqAHqABWJ{@Lq@Hg@Jq@DOVeAd@wBRs@HY@E'}, 'start_location': {'lat': -6.242917599999999, 'lng': 106.8638468}, 'travel_mode': 'DRIVING'}, {'distance': {'text': '0.1 km', 'value': 122}, 'duration': {'text': '1 min', 'value': 18}, 'end_location': {'lat': -6.2439776, 'lng': 106.8683237}, 'html_instructions': 'Slight <b>left</b> onto the ramp to <b>Melayu</b>', 'maneuver': 'ramp-left', 'polyline': {'points': 'tnbe@gogkSFmAHc@D[LiA'}, 'start_location': {'lat': -6.2437911, 'lng': 106.8672411}, 'travel_mode': 'DRIVING'}, {'distance': {'text': '1.1 km', 'value': 1055}, 'duration': {'text': '3 mins', 'value': 180}, 'end_location': {'lat': -6.252376399999999, 'lng': 106.8648467}, 'html_instructions': 'Slight <b>right</b> to merge onto <b>Jl. Dewi Sartika</b>/<wbr/><b>Jl. Otto Iskandardinata</b><div style=\"font-size:0.9em\">Continue to follow Jl. Dewi Sartika</div><div style=\"font-size:0.9em\">Pass by Fotokopi Asa Digital Printing (on the left in 450m)</div>', 'maneuver': 'ramp-right', 'polyline': {'points': 'zobe@_vgkS@EBEBIDGDGFEDE@S`AP@?LDTFB?D@BBD@D@B@FBLHFLLNPJf@Tf@Nd@PbDlAPHxAp@z@\\\\FB\\\\LhAf@n@R\\\\Ln@Vx@XVHNDLDNFh@Rb@Pz@TDB`@NlA^vAf@@?h@NNFf@Nt@Tb@N^Lj@NRF'}, 'start_location': {'lat': -6.2439776, 'lng': 106.8683237}, 'travel_mode': 'DRIVING'}, {'distance': {'text': '37 m', 'value': 37}, 'duration': {'text': '2 mins', 'value': 134}, 'end_location': {'lat': -6.252152700000001, 'lng': 106.8646154}, 'html_instructions': 'Turn <b>right</b><div style=\"font-size:0.9em\">Destination will be on the left</div>', 'maneuver': 'turn-right', 'polyline': {'points': 'jdde@i`gkSILKPCBCBEBI@'}, 'start_location': {'lat': -6.252376399999999, 'lng': 106.8648467}, 'travel_mode': 'DRIVING'}], 'traffic_speed_entry': [], 'via_waypoint': []}, {'distance': {'text': '44.1 km', 'value': 44069}, 'duration': {'text': '54 mins', 'value': 3242}, 'end_address': 'Jl. Jade Raya Blok JF 2 No.12, Serua, Kec. Bojongsari, Kota Depok, Jawa Barat 16517, Indonesia', 'end_location': {'lat': -6.3775857, 'lng': 106.7373652}, 'start_address': 'Jl. Dewi Sartika No.1, RT.5/RW.12, Kuningan, Cawang, Kec. Kramat jati, Kota Jakarta Timur, Daerah Khusus Ibukota Jakarta 13630, Indonesia', 'start_location': {'lat': -6.252152700000001, 'lng': 106.8646154}, 'steps': [{'distance': {'text': '39 m', 'value': 39}, 'duration': {'text': '1 min', 'value': 14}, 'end_location': {'lat': -6.2520669, 'lng': 106.8648846}, 'html_instructions': 'Head <b>north</b> toward <b>Jl. Dewi Sartika</b>', 'polyline': {'points': '|bde@{~fkSE@EACAACAA?AACAA?A?E?EFU'}, 'start_location': {'lat': -6.252152700000001, 'lng': 106.8646154}, 'travel_mode': 'DRIVING'}, {'distance': {'text': '1.0 km', 'value': 971}, 'duration': {'text': '4 mins', 'value': 242}, 'end_location': {'lat': -6.2441607, 'lng': 106.8685685}, 'html_instructions': 'Turn <b>left</b> onto <b>Jl. Dewi Sartika</b><div style=\"font-size:0.9em\">Pass by Bintang Abadi Group printing (on the left in 350m)</div>', 'maneuver': 'turn-left', 'polyline': {'points': 'lbde@o`gkSICc@Ow@U]Ok@OECGCi@OqAa@qAc@_@MGC_A]a@Mo@UICWKuAg@oAc@o@SeAe@ICkAe@MGoD{Aw@]gA_@MG_A[YQWSkAc@KE[Ia@E'}, 'start_location': {'lat': -6.2520669, 'lng': 106.8648846}, 'travel_mode': 'DRIVING'}, {'distance': {'text': '0.2 km', 'value': 165}, 'duration': {'text': '1 min', 'value': 31}, 'end_location': {'lat': -6.244787, 'lng': 106.8698407}, 'html_instructions': 'Turn <b>right</b> onto <b>Jl. Cawang</b><div style=\"font-size:0.9em\">Parts of this road may be closed at certain times or days</div>', 'maneuver': 'turn-right', 'polyline': {'points': '~pbe@qwgkS@SFk@F]DYH[BGHUFOJUNOFGFEFCJCD?'}, 'start_location': {'lat': -6.2441607, 'lng': 106.8685685}, 'travel_mode': 'DRIVING'}, {'distance': {'text': '0.3 km', 'value': 313}, 'duration': {'text': '1 min', 'value': 32}, 'end_location': {'lat': -6.246061399999999, 'lng': 106.8722772}, 'html_instructions': '<b>Jl. Cawang</b> turns slightly <b>left</b> and becomes <b>Jl. Letjen M.T. Haryono</b>', 'polyline': {'points': '|tbe@o_hkSj@g@f@e@LMRWLONUHODKDKHYLa@Ha@@ARgABOVmB'}, 'start_location': {'lat': -6.244787, 'lng': 106.8698407}, 'travel_mode': 'DRIVING'}, {'distance': {'text': '0.6 km', 'value': 638}, 'duration': {'text': '1 min', 'value': 56}, 'end_location': {'lat': -6.2486353, 'lng': 106.8773191}, 'html_instructions': 'Keep <b>right</b> to continue on <b>Interchange Cawang Jakarta</b>', 'maneuver': 'keep-right', 'polyline': {'points': 'z|be@wnhkSR}@XuAFW@GJo@Lo@Ng@HWL[DG?AJUHQNWR]DGDILO@CFIFI@C@A@A@?DGFI@AV[pA{A`@i@\\\\e@Xc@Rg@FMBIBGFWBKDWBK?ADY@i@'}, 'start_location': {'lat': -6.246061399999999, 'lng': 106.8722772}, 'travel_mode': 'DRIVING'}, {'distance': {'text': '0.1 km', 'value': 132}, 'duration': {'text': '1 min', 'value': 24}, 'end_location': {'lat': -6.2485684, 'lng': 106.8785048}, 'html_instructions': 'Continue onto <b>Jl. Halim Perdana Kusuma</b>', 'polyline': {'points': '~lce@gnikS@m@@YA_@EcAI_A'}, 'start_location': {'lat': -6.2486353, 'lng': 106.8773191}, 'travel_mode': 'DRIVING'}, {'distance': {'text': '44 m', 'value': 44}, 'duration': {'text': '1 min', 'value': 15}, 'end_location': {'lat': -6.2486066, 'lng': 106.8789051}, 'html_instructions': 'Slight <b>right</b> to stay on <b>Jl. Halim Perdana Kusuma</b> (signs for <b>Pel.Ud.</b>/<wbr/><b>Halim</b>)', 'maneuver': 'turn-slight-right', 'polyline': {'points': 'plce@suikSFqA'}, 'start_location': {'lat': -6.2485684, 'lng': 106.8785048}, 'travel_mode': 'DRIVING'}, {'distance': {'text': '33 m', 'value': 33}, 'duration': {'text': '1 min', 'value': 7}, 'end_location': {'lat': -6.2487134, 'lng': 106.8786274}, 'html_instructions': 'Sharp <b>right</b> onto <b>Jl. Akses Tol Cikampek</b>', 'maneuver': 'turn-sharp-right', 'polyline': {'points': 'xlce@exikSDRLb@'}, 'start_location': {'lat': -6.2486066, 'lng': 106.8789051}, 'travel_mode': 'DRIVING'}, {'distance': {'text': '0.2 km', 'value': 177}, 'duration': {'text': '1 min', 'value': 30}, 'end_location': {'lat': -6.2487669, 'lng': 106.8770407}, 'html_instructions': 'Merge onto <b>Jl. Halim Perdana Kusuma</b> (signs for <b>Cawang</b>/<wbr/><b>Bogor</b>)', 'maneuver': 'merge', 'polyline': {'points': 'lmce@mvikSHvBHdA@L@L?JAPAVCTCV'}, 'start_location': {'lat': -6.2487134, 'lng': 106.8786274}, 'travel_mode': 'DRIVING'}, {'distance': {'text': '0.6 km', 'value': 578}, 'duration': {'text': '2 mins', 'value': 102}, 'end_location': {'lat': -6.252532299999999, 'lng': 106.8735484}, 'html_instructions': 'Turn <b>left</b> onto <b>Jl. Perindustrian</b>', 'maneuver': 'turn-left', 'polyline': {'points': 'xmce@olikS|BzBxA`BzA`B^d@Zd@@Br@bANNdAlAVVTPRJVJjAj@JFFBH@n@J'}, 'start_location': {'lat': -6.2487669, 'lng': 106.8770407}, 'travel_mode': 'DRIVING'}, {'distance': {'text': '35 m', 'value': 35}, 'duration': {'text': '1 min', 'value': 8}, 'end_location': {'lat': -6.252803999999999, 'lng': 106.8734448}, 'html_instructions': 'Take the ramp to <b>Jl. Tol Jagorawi</b>', 'polyline': {'points': 'hede@uvhkSXBJNN@'}, 'start_location': {'lat': -6.252532299999999, 'lng': 106.8735484}, 'travel_mode': 'DRIVING'}, {'distance': {'text': '0.6 km', 'value': 636}, 'duration': {'text': '1 min', 'value': 52}, 'end_location': {'lat': -6.2582248, 'lng': 106.8731132}, 'html_instructions': 'Slight <b>right</b> onto the ramp to <b>TMII Bogor</b>/<wbr/><b>Lewat</b><div style=\"font-size:0.9em\">Toll road</div>', 'maneuver': 'ramp-right', 'polyline': {'points': '~fde@_vhkSDB@@B@FBHB^N^PVP`@XB@DBd@Xb@R^Jf@Hh@DV@T?@?\\\\At@I@A`@Gb@ETELAFA\\\\Av@AR?TAN?NAFAXC`@IpB]bAOh@EBAL@NB'}, 'start_location': {'lat': -6.252803999999999, 'lng': 106.8734448}, 'travel_mode': 'DRIVING'}, {'distance': {'text': '14.3 km', 'value': 14286}, 'duration': {'text': '13 mins', 'value': 763}, 'end_location': {'lat': -6.383356699999999, 'lng': 106.8960843}, 'html_instructions': 'Merge onto <b>Jl. Tol Jagorawi</b><div style=\"font-size:0.9em\">Toll road</div>', 'maneuver': 'merge', 'polyline': {'points': 'zhee@}shkSnAQ|AMtCGN?t@?|ABjB@N@~@@XBlDJ`@@|BH|BDt@?bAAZCTCl@Gv@IZCVCb@AP?d@AfAB^@hADvABl@@r@Dd@D|@Ln@Lp@Nb@Fp@Hd@FP@f@BZ@p@BlAAlBCtFGhHi@rAO~AUhC_@dGkA|IoCdCw@ZKdA[rA_@nLoDNE~HaCvBo@nEuAfF}AbF}Aj@QHCVI`@K`@MTIf@Ot@YNETITGn@Qz@YfDcAl@Sx@UNGbEqAvAc@FAVIzDkAZMd@MRG`Bi@rC}@`A[|C}@`Bg@bA[t@SpBc@l@MfAU`AQDANCj@Kt@KxAQx@Mj@I~Fy@xB[^GjBUNClAOfG}@v@KTCdAOrDg@|AUdAO^G~BYjBWbAOHAp@Id@G\\\\Gt@KXEJAZEtASvHeA~@Ox@K|@Mv@Kv@Ir@IrDi@LAzDi@pCYzAMRA~AK`BI`AE~BGTA|FEdCC~@?hFCdJI~B?dBChECH?B?T?F?@?B?X?b@AhA?b@AdB?vBCfACbAEhAGjAG`AGtBQVCJAfBO|Da@dCYfDa@jBS`D]VEZCjBQ`BSD?r@Kh@GpBUzBU`C[vBUB?LALCB?HAVCzKoAPCFAxD_@v@IjGq@zEo@lDo@tLyB|HwANC@?NCnVuEpB]~AUhAQ~AQjBUvBSFAv@KbAKVE`@EBAh@EBAXCh@G`CYhAMd@EpBSdHq@dAKrCWtNyApEi@t@KNCH?XCD?v@Kx@I~JiA@?~@I~AO^ED?dO{ATApBMdCKlCAfCCvA?\\\\@hABrBDbN^H?@?J@^@L@Z@F?F?N@N?nFNxA@'}, 'start_location': {'lat': -6.2582248, 'lng': 106.8731132}, 'travel_mode': 'DRIVING'}, {'distance': {'text': '0.2 km', 'value': 217}, 'duration': {'text': '1 min', 'value': 15}, 'end_location': {'lat': -6.3852942, 'lng': 106.8961339}, 'html_instructions': 'Take the <b>Cinere-Jagorwi</b>/<wbr/><b>Jl. Tol Cijago</b> exit toward <b>Cisalak</b>/<wbr/><b>Margonda</b>/<wbr/><b>Depok</b><div style=\"font-size:0.9em\">Toll road</div>', 'maneuver': 'ramp-left', 'polyline': {'points': '~v}e@ocmkS^Kr@Ar@?^?`B@fBBNA'}, 'start_location': {'lat': -6.383356699999999, 'lng': 106.8960843}, 'travel_mode': 'DRIVING'}, {'distance': {'text': '1.0 km', 'value': 1013}, 'duration': {'text': '2 mins', 'value': 101}, 'end_location': {'lat': -6.3865322, 'lng': 106.8919131}, 'html_instructions': 'Take the <b>Cinere-Jagorawi</b>/<wbr/><b>Margonda</b>/<wbr/><b>Kukusan Depok</b> ramp<div style=\"font-size:0.9em\">Toll road</div>', 'polyline': {'points': '`c~e@ycmkS`BQdAUREjBm@d@OhAc@JE@A^IBAf@CX@NBHBXHNDPJNJHFl@v@NZFRDTB\\\\?R?JAb@CLCPGTENITMTKLSPUPYLOFMDIDE@i@VUPOJMLMRMXOh@Oh@EReApDe@bBA@IPML'}, 'start_location': {'lat': -6.3852942, 'lng': 106.8961339}, 'travel_mode': 'DRIVING'}, {'distance': {'text': '10.8 km', 'value': 10804}, 'duration': {'text': '8 mins', 'value': 476}, 'end_location': {'lat': -6.3657445, 'lng': 106.7972638}, 'html_instructions': 'Continue onto <b>Jl. Tol Cijago</b>/<wbr/><b>Jl. Tol Cinere - Jagorawi</b><div style=\"font-size:0.9em\">Toll road</div>', 'polyline': {'points': 'xj~e@milkS_@|AOj@GRc@hBq@zCs@|CO|@Q|@Y|Aq@`Ee@fDSvAYvBSfBs@~FEb@SbBcBfOCZC\\\\Ij@_@tEs@bHgAhJG`@EVM~@QvAu@pGM`AKdAYdC?@Eb@MhASlBEf@QfBI~@WfDQzCARALEp@?HKrBA`@Cd@OvDGpAOjDMrCATI`BMnCGzAYdFOtBAJATUxBOnAMnAe@tDmAfJs@nGK~AKxAQ`DIvACb@AJEz@Cb@Cb@Ep@a@nHU`FEbCAN@R?H?b@?rDDxBRlF?v@@x@@R?PJjC@p@B|@JfF?b@?ZI~CKjBAFOrAG^CNCNEV}@vDg@fBi@zAs@zBM`@o@pBsAlEwBzHMb@u@dC{BpICHOl@i@hBSt@IXU|@Ux@kArEWdAy@lDg@fCMj@Mn@}@bEe@lBg@nBqDrMc@|A_AbDWbAY`AOj@GR?@c@zAc@xAYbAg@dBENGN?@YbAK^?@K^?@g@bBK`@M`@K^K`@M`@?@M`@CHGT?@K`@K`@A?I^A@K^?@c@bBA@I^A@K^?BK^A@o@bCCFc@zA{AfFK`@ABa@dBq@bCUz@K^EPENENELADOf@_@zAk@tB[tAS|@e@lCOfAMfAANU~CGrAAXATEzB@fD?x@?tC?P?RAvACv@CbAEf@EdAGt@AT?BEr@KtAANAJ'}, 'start_location': {'lat': -6.3865322, 'lng': 106.8919131}, 'travel_mode': 'DRIVING'}, {'distance': {'text': '6.9 km', 'value': 6910}, 'duration': {'text': '6 mins', 'value': 352}, 'end_location': {'lat': -6.3392148, 'lng': 106.746308}, 'html_instructions': 'Keep <b>right</b> to continue on <b>Jl. Tol Serpong - Cinere</b><div style=\"font-size:0.9em\">Toll road</div>', 'maneuver': 'keep-right', 'polyline': {'points': 'zhze@{yyjSo@fKEd@IhBCXAVItAIfACl@G`AMdB?@Ef@Ir@Ed@EVCXCRG^CNCNG`@Mj@Ib@Kf@QbAW`AWx@Uv@?DOn@ERETq@dCq@fCqApFw@`DMj@ADWdAqAdFe@pBSz@Kd@EXGX[|BKjBCb@CT?XAZ?ZAF@fC?h@LdBBb@LjBBb@B^@BJfAB`@F~@Dj@Dt@FjB@n@AnB?lBK~G?@Ab@C`AKpEGlBAh@KhCGlBAVAXG`BCl@CZAPEd@Mz@CPGh@Kp@Kj@Kr@ETAFGV?@EPEN?BUx@IVK`@ENA@EROf@Qd@]~@[t@Yl@e@dAMXa@t@k@bAEHc@p@[f@Yd@UXY^Y\\\\WZKPk@p@UVq@p@]Za@`@MLa@^EDSPu@l@_@XsAbAYRs@`@aAl@YNWNi@VWN[LUJULSHcAb@e@Pg@Pm@TYHqA`@i@Ly@Tq@NUFw@NMBc@HuBZYFgAPQDs@Nk@Lg@Lk@NQDe@NMDq@Rg@N]NQFiAb@QHuAj@GD_@PiAl@GBw@b@cAn@e@VUPa@VOLa@XQLa@ZIHk@f@k@f@k@f@]\\\\c@d@WXe@h@q@v@IJw@bA[d@s@bA_@n@GJq@jAIPOX{@lB]x@OZYn@Uf@Q`@[t@Yd@_AbBILQZ]b@gAdBKLWZWXiAnAEFmCpC'}, 'start_location': {'lat': -6.3657445, 'lng': 106.7972638}, 'travel_mode': 'DRIVING'}, {'distance': {'text': '0.9 km', 'value': 877}, 'duration': {'text': '2 mins', 'value': 100}, 'end_location': {'lat': -6.3366042, 'lng': 106.7479553}, 'html_instructions': 'Take the exit toward <b>Jl. Jkt - Bogor</b>/<wbr/><b>Jl. RE Martadinata</b><div style=\"font-size:0.9em\">Toll road</div>', 'maneuver': 'ramp-left', 'polyline': {'points': '`cue@m{ojS?HABCFGFQRIHm@h@kAbAGDSN[RYTWRy@p@GFMREFCJAFAD?F?JBJ@JBD@BFHJHB@FDJDLBN@F?HAHCHCHEJIBEBAFOBG@S@O?MAG?GAIE]?EQgAIY?AGQEMAAO_@c@_AQ]O]a@s@g@eA[q@Yo@Wg@c@eA'}, 'start_location': {'lat': -6.3392148, 'lng': 106.746308}, 'travel_mode': 'DRIVING'}, {'distance': {'text': '0.5 km', 'value': 493}, 'duration': {'text': '1 min', 'value': 50}, 'end_location': {'lat': -6.334578899999999, 'lng': 106.7490612}, 'html_instructions': 'Take the ramp to <b>Pamulang Pd. Cabe</b><div style=\"font-size:0.9em\">Toll road</div>', 'polyline': {'points': 'vrte@wepjSISWi@e@o@ACCEUUCCc@a@g@c@ECOMKICAOMa@]QK_@We@]OK?ACCYMECSEOAQ@GBA@MFKH?@GFELAP?R@F?FDLFHFFVNTJ\\\\FHF'}, 'start_location': {'lat': -6.3366042, 'lng': 106.7479553}, 'travel_mode': 'DRIVING'}, {'distance': {'text': '3.9 km', 'value': 3914}, 'duration': {'text': '8 mins', 'value': 456}, 'end_location': {'lat': -6.369015399999999, 'lng': 106.7454277}, 'html_instructions': 'Merge onto <b>Jl. Jkt - Bogor</b>/<wbr/><b>Jl. RE Martadinata</b><div style=\"font-size:0.9em\">Continue to follow Jl. Jkt - Bogor</div><div style=\"font-size:0.9em\">Pass by UD Putra Lawu (on the left in 2.1 km)</div>', 'maneuver': 'merge', 'polyline': {'points': 'bfte@slpjS@?~AMbBMpEa@b@AZEh@EZCNA\\\\CTEF@F?H@h@INAz@GrAKJAz@Gz@Ev@CNAn@AL?H?N?B?^?X?P?P?HAD?^?L@VCRCRAV@N?VAZ@Z@bA@F@pBAT?`A?h@?tA?l@@`A?V@Z?f@?lA?l@@j@?f@AP?N?F?d@@V?P?b@AX?H?t@BLAN?~@?b@?N@fA?r@?N@H?X?l@A|B@J?T@t@?r@AbA?\\\\@XA\\\\@nD@L?`@?Z@N?`@@`AFZB^Dz@NbB^nAVVF`@HxAXb@JtAZd@JJB^JZFhATXDD@H@ZFD@p@Hx@FTBtFJL?~@@hAB`AFN?H@f@BL@B@b@BLDHBJB`@LPFRFDB\\\\JXH|@\\\\p@XPHLFD@BBLD@@F@XLPHLFb@RVLPFD@\\\\PFBf@R\\\\LVHNDt@Rb@Jj@LTDr@LlB^d@JLBf@Hd@HLB@@TDh@FXDnARd@H^Bp@D\\\\Bh@DVBf@B`@@F@lAJ'}, 'start_location': {'lat': -6.334578899999999, 'lng': 106.7490612}, 'travel_mode': 'DRIVING'}, {'distance': {'text': '0.9 km', 'value': 856}, 'duration': {'text': '2 mins', 'value': 141}, 'end_location': {'lat': -6.369551899999999, 'lng': 106.7378511}, 'html_instructions': 'Turn <b>right</b> after Alfamart (on the right)<div style=\"font-size:0.9em\">Pass by Alfamart (on the left in 700m)</div>', 'maneuver': 'turn-right', 'polyline': {'points': 'j}ze@}uojSAJGx@Cd@CVALAZ?\\\\?DAP?^AX?FAR?P@N?@?P?F?X?ZA`@?T?F?L?@?P?J@H?@@F@FBHBHDLL\\\\HRJVFP@D@FBJ@J?H?H@VB\\\\?H?j@?D@J@TBXB`@@X@F?JDx@@Z@P?F?F@N@N?N@BD\\\\F`@F`@DHDJJR@B@B@B?B@B?D?@@D?B?B?DAD?DANAHE`@A@CRCNEVADAFA@'}, 'start_location': {'lat': -6.369015399999999, 'lng': 106.7454277}, 'travel_mode': 'DRIVING'}, {'distance': {'text': '0.3 km', 'value': 260}, 'duration': {'text': '1 min', 'value': 41}, 'end_location': {'lat': -6.371733799999999, 'lng': 106.7382355}, 'html_instructions': 'Turn <b>left</b> onto <b>Jl. Permata Mansion Raya</b>', 'maneuver': 'turn-left', 'polyline': {'points': 't`{e@qfnjSX@J?L?Z?TANAJAXGPEPIRINKJIPKNIBANGPENCLAJAJ@J?LBTDFDFDDB'}, 'start_location': {'lat': -6.369551899999999, 'lng': 106.7378511}, 'travel_mode': 'DRIVING'}, {'distance': {'text': '0.4 km', 'value': 439}, 'duration': {'text': '1 min', 'value': 62}, 'end_location': {'lat': -6.3755691, 'lng': 106.7377635}, 'html_instructions': 'Turn <b>left</b> onto <b>Jl. Swadaya</b>', 'maneuver': 'turn-left', 'polyline': {'points': 'hn{e@_injSTAj@Fn@D\\\\?ZGBAVG\\\\C^Ch@E\\\\CN?F@RBv@PzAXfB\\\\hCf@'}, 'start_location': {'lat': -6.371733799999999, 'lng': 106.7382355}, 'travel_mode': 'DRIVING'}, {'distance': {'text': '10 m', 'value': 10}, 'duration': {'text': '1 min', 'value': 5}, 'end_location': {'lat': -6.3755522, 'lng': 106.7376701}, 'html_instructions': 'Turn <b>right</b> onto <b>Jl. H. Makasuci</b>', 'maneuver': 'turn-right', 'polyline': {'points': 'hf|e@_fnjSCP'}, 'start_location': {'lat': -6.3755691, 'lng': 106.7377635}, 'travel_mode': 'DRIVING'}, {'distance': {'text': '0.2 km', 'value': 229}, 'duration': {'text': '1 min', 'value': 67}, 'end_location': {'lat': -6.3775857, 'lng': 106.7373652}, 'html_instructions': 'Turn <b>left</b> onto <b>Jl. Jade Raya</b><div style=\"font-size:0.9em\">Restricted usage road</div><div style=\"font-size:0.9em\">Destination will be on the right</div>', 'maneuver': 'turn-left', 'polyline': {'points': 'df|e@menjS`BVH?`@D@?|@FB?r@Dt@Hh@@J@d@@'}, 'start_location': {'lat': -6.3755522, 'lng': 106.7376701}, 'travel_mode': 'DRIVING'}], 'traffic_speed_entry': [], 'via_waypoint': []}], 'overview_polyline': {'points': '~{}d@iy`kSj@xB`@B\\\\Ot@Ud@Cd@CZ@VMBeAa@_D`@~CLbAB`@f@IhBYBPlASp@Ml@KnAOdEObNg@zL_@hBHjEx@xC|@rCvAxDhDnAhB`AlBrBvFfAzAtAbAnDzB\\\\THMt@qAtAkCfBaDj@m@~@iBzF}K~@qAr@aB|@mDl@iEr@mEPo@tAkHzB_PvAkFxAoEVkC^}NEqGg@aTKyMAua@MsBI{CGeEG[AsGA_CZsGf@mDnA_G\\\\mAHsA^oCR_@LK@S`APNDXFTH`@\\\\fAp@~LzEvHpCpRjGRFILOTSHWOFc@cCy@oH_CiKqDgNyF}DeBg@Oa@E@SNiANu@`@cAf@a@dBqAtAsBb@_BbAcGn@eDt@kCjAyBd@o@zD{Et@yARu@N_ABqCOcCFqADRVzCJrAAbAGl@vE|ExCpD`DxDlCtAlAXd@RTDVJlE`ChC\\\\jBK|AUjBGhACtDm@~BU~AMrFUnGDvGRrIPbDQnCS~CBbGPdEp@lCZbEFbJK|Jy@hFu@dGkA|IoC`DcAxC{@vZgJlXkIzGwBbi@iPlI{B|Dw@jT{Cvh@iHjc@aGvLsAvG]xOSnWMzIGpDChJMlIi@d[eDzZiDfd@eFdx@}Nb\\\\yDhl@aG`RsBtYkCrGM~EC~Tj@pBFhJRrAMrA?hEDpBSjFyAvBu@dACbAVxAvA`@bBEpA[lAcAfAaA`@uAv@y@dBaCrIy@~BmBdIoBvJeCxPwE|a@sAxNoAjK{A`MaBrOoAhQiAzWy@rPi@pGqC|T_AnJ]zFUbEo@hL[hKDzIh@`SJjGIzDe@fFkAnFsC`JiG~SeEnO}AvFsD`OaCfLcHnWqE`PuBnHeC|I}AbGgFzQ}G|WeAlHa@bHIhT_Cfa@y@`Ls@rE_ApE}@fDiG|VcDxMu@vES~DAfEt@nLVbEFxJs@zZc@bKeAfH_ArDcCvGaCxE_BhCaF`G_FjEcFfDsBfA{GnC}IzBuKpB{FfByD~AiDfBgGbEmGhGoClDmCjEeEhJ_ClEcCrD_ClCmCzCEJqAnAcClBsBbBYn@Hz@^Zp@Jf@OZa@Fy@Iw@k@kCuEwJ}AkDaAoAeCuBmCqBcAYi@NY`@?t@l@n@~@ZjPqAbEY|Ic@dCAzCEdJBbSD~N@dK@lKNzEx@bFbAjIfBp@LjBPjGNxELnAFrCp@rEdBlHzCrJrBjDj@nDf@pCR~CRQbCG`D?fC?vBh@dB\\\\bBLlDP~DZ|C\\\\t@Bb@Q|AMt@p@BlAEpAa@|@k@t@Sp@Ar@TfAHlAD^I~BUhA@dKpBCP`BVj@DvBLpCN'}, 'summary': 'Jl. Tol Cawang Grogol/Jl. Tol Dalam Kota', 'warnings': [], 'waypoint_order': [0]}]\n"
     ]
    }
   ],
   "source": [
    "import googlemaps\n",
    "import pandas as pd\n",
    "\n",
    "import os\n",
    "from dotenv import load_dotenv\n",
    "\n",
    "# .env 파일에서 환경 변수 로드\n",
    "load_dotenv()\n",
    "\n",
    "# Google Maps API 키 가져오기\n",
    "google_maps_api_key = os.getenv('GOOGLE_MAPS_API_KEY')\n",
    "\n",
    "# 샘플 데이터에서 첫 번째 행을 사용 (추가 테스트를 위해 반복문 사용 가능)\n",
    "sample_row = df_sample.iloc[0]\n",
    "\n",
    "# 라이더 위치 (출발지)\n",
    "origin = (sample_row['rider_latitude'], sample_row['rider_longitude'])\n",
    "\n",
    "# 픽업 위치\n",
    "pickup_location = (sample_row['Sender Latitude'], sample_row['Sender Longitude'])\n",
    "\n",
    "# 배송 위치 (목적지)\n",
    "delivery_location = (sample_row['Consignee Latitude'], sample_row['Consignee Longitude'])\n",
    "\n",
    "# Directions API를 통해 라이더 -> 픽업 지점 -> 배송 목적지 경로 요청\n",
    "directions_result = gmaps.directions(origin,\n",
    "                                     delivery_location,\n",
    "                                     waypoints=[pickup_location],  # 경유지: 픽업 지점\n",
    "                                     optimize_waypoints=True,  # 경유지 최적화\n",
    "                                     mode=\"driving\")\n",
    "\n",
    "# 결과 출력\n",
    "print(directions_result)\n"
   ]
  },
  {
   "cell_type": "code",
   "execution_count": 89,
   "metadata": {},
   "outputs": [
    {
     "ename": "ValueError",
     "evalue": "Must provide API key or enterprise credentials when creating client.",
     "output_type": "error",
     "traceback": [
      "\u001b[1;31m---------------------------------------------------------------------------\u001b[0m",
      "\u001b[1;31mValueError\u001b[0m                                Traceback (most recent call last)",
      "Cell \u001b[1;32mIn[89], line 13\u001b[0m\n\u001b[0;32m     10\u001b[0m google_maps_api_key \u001b[38;5;241m=\u001b[39m os\u001b[38;5;241m.\u001b[39mgetenv(\u001b[38;5;124m'\u001b[39m\u001b[38;5;124mGOOGLE_MAPS_API_KEY\u001b[39m\u001b[38;5;124m'\u001b[39m)\n\u001b[0;32m     12\u001b[0m \u001b[38;5;66;03m# Google Maps API 클라이언트 생성\u001b[39;00m\n\u001b[1;32m---> 13\u001b[0m gmaps \u001b[38;5;241m=\u001b[39m \u001b[43mgooglemaps\u001b[49m\u001b[38;5;241;43m.\u001b[39;49m\u001b[43mClient\u001b[49m\u001b[43m(\u001b[49m\u001b[43mkey\u001b[49m\u001b[38;5;241;43m=\u001b[39;49m\u001b[43mgoogle_maps_api_key\u001b[49m\u001b[43m)\u001b[49m\n\u001b[0;32m     15\u001b[0m \u001b[38;5;66;03m# df_sample에서 데이터 추출하여 루프를 통해 라이더별로 거리 및 소요 시간 계산\u001b[39;00m\n\u001b[0;32m     16\u001b[0m route_distances \u001b[38;5;241m=\u001b[39m []\n",
      "File \u001b[1;32mc:\\Users\\jihoo\\AppData\\Local\\Programs\\Python\\Python311\\Lib\\site-packages\\googlemaps\\client.py:140\u001b[0m, in \u001b[0;36mClient.__init__\u001b[1;34m(self, key, client_id, client_secret, timeout, connect_timeout, read_timeout, retry_timeout, requests_kwargs, queries_per_second, queries_per_minute, channel, retry_over_query_limit, experience_id, requests_session, base_url)\u001b[0m\n\u001b[0;32m     64\u001b[0m \u001b[38;5;250m\u001b[39m\u001b[38;5;124;03m\"\"\"\u001b[39;00m\n\u001b[0;32m     65\u001b[0m \u001b[38;5;124;03m:param key: Maps API key. Required, unless \"client_id\" and\u001b[39;00m\n\u001b[0;32m     66\u001b[0m \u001b[38;5;124;03m    \"client_secret\" are set. Most users should use an API key.\u001b[39;00m\n\u001b[1;32m   (...)\u001b[0m\n\u001b[0;32m    137\u001b[0m \n\u001b[0;32m    138\u001b[0m \u001b[38;5;124;03m\"\"\"\u001b[39;00m\n\u001b[0;32m    139\u001b[0m \u001b[38;5;28;01mif\u001b[39;00m \u001b[38;5;129;01mnot\u001b[39;00m key \u001b[38;5;129;01mand\u001b[39;00m \u001b[38;5;129;01mnot\u001b[39;00m (client_secret \u001b[38;5;129;01mand\u001b[39;00m client_id):\n\u001b[1;32m--> 140\u001b[0m     \u001b[38;5;28;01mraise\u001b[39;00m \u001b[38;5;167;01mValueError\u001b[39;00m(\u001b[38;5;124m\"\u001b[39m\u001b[38;5;124mMust provide API key or enterprise credentials \u001b[39m\u001b[38;5;124m\"\u001b[39m\n\u001b[0;32m    141\u001b[0m                      \u001b[38;5;124m\"\u001b[39m\u001b[38;5;124mwhen creating client.\u001b[39m\u001b[38;5;124m\"\u001b[39m)\n\u001b[0;32m    143\u001b[0m \u001b[38;5;28;01mif\u001b[39;00m key \u001b[38;5;129;01mand\u001b[39;00m \u001b[38;5;129;01mnot\u001b[39;00m key\u001b[38;5;241m.\u001b[39mstartswith(\u001b[38;5;124m\"\u001b[39m\u001b[38;5;124mAIza\u001b[39m\u001b[38;5;124m\"\u001b[39m):\n\u001b[0;32m    144\u001b[0m     \u001b[38;5;28;01mraise\u001b[39;00m \u001b[38;5;167;01mValueError\u001b[39;00m(\u001b[38;5;124m\"\u001b[39m\u001b[38;5;124mInvalid API key provided.\u001b[39m\u001b[38;5;124m\"\u001b[39m)\n",
      "\u001b[1;31mValueError\u001b[0m: Must provide API key or enterprise credentials when creating client."
     ]
    }
   ],
   "source": [
    "import os\n",
    "import googlemaps\n",
    "import pandas as pd\n",
    "from dotenv import load_dotenv\n",
    "\n",
    "# .env 파일에서 환경 변수 로드\n",
    "load_dotenv()\n",
    "\n",
    "# .env 파일에 저장된 Google Maps API 키를 불러옴\n",
    "google_maps_api_key = os.getenv('GOOGLE_MAPS_API_KEY')\n",
    "\n",
    "# Google Maps API 클라이언트 생성\n",
    "gmaps = googlemaps.Client(key=google_maps_api_key)\n",
    "\n",
    "# df_sample에서 데이터 추출하여 루프를 통해 라이더별로 거리 및 소요 시간 계산\n",
    "route_distances = []\n",
    "route_durations = []\n",
    "\n",
    "for index, row in df_sample.iterrows():\n",
    "    try:\n",
    "        # 라이더 위치 (출발지)\n",
    "        origin = (row['rider_latitude'], row['rider_longitude'])\n",
    "        \n",
    "        # 픽업 위치\n",
    "        pickup_location = (row['Sender Latitude'], row['Sender Longitude'])\n",
    "        \n",
    "        # 배송 위치 (목적지)\n",
    "        delivery_location = (row['Consignee Latitude'], row['Consignee Longitude'])\n",
    "        \n",
    "        # Directions API를 통해 경로 계산\n",
    "        directions_result = gmaps.directions(origin,\n",
    "                                             delivery_location,\n",
    "                                             waypoints=[pickup_location],  # 경유지: 픽업 지점\n",
    "                                             optimize_waypoints=True,\n",
    "                                             mode=\"driving\")\n",
    "        \n",
    "        # Directions API 결과가 비어 있는지 확인\n",
    "        if not directions_result or 'legs' not in directions_result[0]:\n",
    "            print(f\"No route found for row {index}\")\n",
    "            route_distances.append(None)\n",
    "            route_durations.append(None)\n",
    "            continue\n",
    "        \n",
    "        # Directions API 결과에서 경로 거리와 소요 시간 추출\n",
    "        route_distance = directions_result[0]['legs'][0]['distance']['value']  # 총 거리 (미터 단위)\n",
    "        route_duration = directions_result[0]['legs'][0]['duration']['value']  # 총 소요 시간 (초 단위)\n",
    "        \n",
    "        # 리스트에 결과 저장\n",
    "        route_distances.append(route_distance / 1000)  # 킬로미터 단위로 변환\n",
    "        route_durations.append(route_duration / 60)  # 분 단위로 변환\n",
    "    \n",
    "    except Exception as e:\n",
    "        print(f\"Error processing row {index}: {e}\")\n",
    "        route_distances.append(None)\n",
    "        route_durations.append(None)\n",
    "\n",
    "# df_cluster_0에 거리 및 소요 시간 추가\n",
    "df_cluster_0['route_distance'] = route_distances\n",
    "df_cluster_0['route_duration'] = route_durations\n",
    "\n",
    "# 추가: 경로가 없는 행을 삭제하거나 특정 값으로 대체할 수 있음\n",
    "df_cluster_0.dropna(subset=['route_distance', 'route_duration'], inplace=True)\n"
   ]
  },
  {
   "cell_type": "code",
   "execution_count": null,
   "metadata": {},
   "outputs": [],
   "source": [
    "route_distances = []\n",
    "route_durations = []\n",
    "\n",
    "# 전체 df_cluster_0 데이터프레임에 대해 경로 계산 적용\n",
    "for index, row in df_cluster_0.iterrows():\n",
    "    try:\n",
    "        # 라이더 위치 (출발지)\n",
    "        origin = (row['rider_latitude'], row['rider_longitude'])\n",
    "        \n",
    "        # 픽업 위치\n",
    "        pickup_location = (row['Sender Latitude'], row['Sender Longitude'])\n",
    "        \n",
    "        # 배송 위치 (목적지)\n",
    "        delivery_location = (row['Consignee Latitude'], row['Consignee Longitude'])\n",
    "        \n",
    "        # Directions API를 통해 경로 계산\n",
    "        directions_result = gmaps.directions(origin,\n",
    "                                             delivery_location,\n",
    "                                             waypoints=[pickup_location],  # 경유지: 픽업 지점\n",
    "                                             optimize_waypoints=True,\n",
    "                                             mode=\"driving\")\n",
    "        \n",
    "        # Directions API 결과가 비어 있는지 확인\n",
    "        if not directions_result or 'legs' not in directions_result[0]:\n",
    "            print(f\"No route found for row {index}\")\n",
    "            route_distances.append(None)\n",
    "            route_durations.append(None)\n",
    "            continue\n",
    "        \n",
    "        # Directions API 결과에서 경로 거리와 소요 시간 추출\n",
    "        route_distance = directions_result[0]['legs'][0]['distance']['value']  # 총 거리 (미터 단위)\n",
    "        route_duration = directions_result[0]['legs'][0]['duration']['value']  # 총 소요 시간 (초 단위)\n",
    "        \n",
    "        # 리스트에 결과 저장\n",
    "        route_distances.append(route_distance / 1000)  # 킬로미터 단위로 변환\n",
    "        route_durations.append(route_duration / 60)  # 분 단위로 변환\n",
    "    \n",
    "    except Exception as e:\n",
    "        print(f\"Error processing row {index}: {e}\")\n",
    "        route_distances.append(None)\n",
    "        route_durations.append(None)\n",
    "\n",
    "# 전체 df_cluster_0에 거리 및 소요 시간 추가\n",
    "df_cluster_0['route_distance'] = route_distances\n",
    "df_cluster_0['route_duration'] = route_durations\n"
   ]
  },
  {
   "cell_type": "code",
   "execution_count": null,
   "metadata": {},
   "outputs": [],
   "source": [
    "df_cluster_0['route_distance']"
   ]
  },
  {
   "cell_type": "code",
   "execution_count": null,
   "metadata": {},
   "outputs": [],
   "source": [
    "df_cluster_0['route_duration']"
   ]
  },
  {
   "cell_type": "code",
   "execution_count": null,
   "metadata": {},
   "outputs": [],
   "source": [
    "df_cluster_0.dropna(subset=['route_distance', 'route_duration'], inplace=True)\n",
    "# 또는\n",
    "df_cluster_0.fillna({'route_distance': df_cluster_0['route_distance'].mean(),\n",
    "                    'route_duration': df_cluster_0['route_duration'].mean()}, inplace=True)\n"
   ]
  },
  {
   "cell_type": "code",
   "execution_count": 66,
   "metadata": {},
   "outputs": [],
   "source": [
    "import pandas as pd\n",
    "from sklearn.model_selection import train_test_split\n",
    "from sklearn.preprocessing import StandardScaler\n",
    "\n",
    "# 필요한 feature와 target 설정\n",
    "features = df_cluster_0[['distance_to_pickup', 'distance_to_delivery', 'route_distance', 'route_duration']]\n",
    "target = df_cluster_0['assigned']  # 배차 여부를 목표 변수로 설정\n",
    "\n",
    "# 데이터를 학습용과 테스트용으로 나누기\n",
    "X_train, X_test, y_train, y_test = train_test_split(features, target, test_size=0.3, random_state=42)\n",
    "\n",
    "# 스케일링 (딥러닝 모델에 유용)\n",
    "scaler = StandardScaler()\n",
    "X_train_scaled = scaler.fit_transform(X_train)\n",
    "X_test_scaled = scaler.transform(X_test)\n"
   ]
  },
  {
   "cell_type": "code",
   "execution_count": null,
   "metadata": {},
   "outputs": [],
   "source": [
    "from sklearn.ensemble import RandomForestClassifier\n",
    "from sklearn.metrics import accuracy_score, classification_report\n",
    "\n",
    "# 랜덤 포레스트 모델 구축\n",
    "rf_model = RandomForestClassifier(random_state=42)\n",
    "rf_model.fit(X_train, y_train)\n",
    "\n",
    "# 테스트 데이터로 예측 수행\n",
    "rf_predictions = rf_model.predict(X_test)\n",
    "\n",
    "# 성능 평가\n",
    "rf_accuracy = accuracy_score(y_test, rf_predictions)\n",
    "print(f\"랜덤 포레스트 모델 정확도: {rf_accuracy}\")\n",
    "print(\"분류 리포트:\\n\", classification_report(y_test, rf_predictions))\n"
   ]
  },
  {
   "cell_type": "code",
   "execution_count": null,
   "metadata": {},
   "outputs": [],
   "source": [
    "import xgboost as xgb\n",
    "\n",
    "# XGBoost 모델 구축\n",
    "xgb_model = xgb.XGBClassifier(random_state=42)\n",
    "xgb_model.fit(X_train, y_train)\n",
    "\n",
    "# 테스트 데이터로 예측 수행\n",
    "xgb_predictions = xgb_model.predict(X_test)\n",
    "\n",
    "# 성능 평가\n",
    "xgb_accuracy = accuracy_score(y_test, xgb_predictions)\n",
    "print(f\"XGBoost 모델 정확도: {xgb_accuracy}\")\n",
    "print(\"분류 리포트:\\n\", classification_report(y_test, xgb_predictions))\n"
   ]
  },
  {
   "cell_type": "code",
   "execution_count": null,
   "metadata": {},
   "outputs": [],
   "source": [
    "from tensorflow.keras.models import Sequential\n",
    "from tensorflow.keras.layers import Dense\n",
    "\n",
    "# 딥러닝 모델 구축\n",
    "dl_model = Sequential()\n",
    "\n",
    "# 입력층\n",
    "dl_model.add(Dense(64, input_dim=X_train_scaled.shape[1], activation='relu'))\n",
    "\n",
    "# 은닉층\n",
    "dl_model.add(Dense(32, activation='relu'))\n",
    "\n",
    "# 출력층 (이진 분류이므로 sigmoid 사용)\n",
    "dl_model.add(Dense(1, activation='sigmoid'))\n",
    "\n",
    "# 모델 컴파일\n",
    "dl_model.compile(optimizer='adam', loss='binary_crossentropy', metrics=['accuracy'])\n",
    "\n",
    "# 모델 학습\n",
    "dl_model.fit(X_train_scaled, y_train, epochs=20, batch_size=32, validation_split=0.2)\n",
    "\n",
    "# 테스트 데이터로 예측 수행\n",
    "dl_predictions = dl_model.predict(X_test_scaled)\n",
    "dl_predictions = (dl_predictions > 0.5).astype(int)  # 0.5 기준으로 이진 분류\n",
    "\n",
    "# 성능 평가\n",
    "dl_accuracy = accuracy_score(y_test, dl_predictions)\n",
    "print(f\"딥러닝 모델 정확도: {dl_accuracy}\")\n",
    "print(\"분류 리포트:\\n\", classification_report(y_test, dl_predictions))\n"
   ]
  },
  {
   "cell_type": "code",
   "execution_count": null,
   "metadata": {},
   "outputs": [],
   "source": [
    "import matplotlib.pyplot as plt\n",
    "from xgboost import plot_importance\n",
    "\n",
    "# Feature importance 출력\n",
    "plot_importance(xgb_model)\n",
    "plt.show()\n"
   ]
  },
  {
   "cell_type": "code",
   "execution_count": null,
   "metadata": {},
   "outputs": [],
   "source": [
    "pip install imblearn"
   ]
  },
  {
   "cell_type": "code",
   "execution_count": null,
   "metadata": {},
   "outputs": [],
   "source": [
    "from imblearn.over_sampling import SMOTE\n",
    "\n",
    "sm = SMOTE(random_state=42)\n",
    "X_train_res, y_train_res = sm.fit_resample(X_train, y_train)\n",
    "\n",
    "# XGBoost 모델 다시 학습\n",
    "xgb_model_res = xgb.XGBClassifier(random_state=42)\n",
    "xgb_model_res.fit(X_train_res, y_train_res)\n",
    "\n",
    "# 예측 및 성능 평가\n",
    "xgb_predictions_res = xgb_model_res.predict(X_test)\n",
    "xgb_accuracy_res = accuracy_score(y_test, xgb_predictions_res)\n",
    "print(f\"XGBoost 모델 (SMOTE 적용) 정확도: {xgb_accuracy_res}\")\n"
   ]
  },
  {
   "cell_type": "code",
   "execution_count": null,
   "metadata": {},
   "outputs": [],
   "source": [
    "from sklearn.model_selection import GridSearchCV\n",
    "\n",
    "param_grid = {\n",
    "    'max_depth': [3, 5, 7],\n",
    "    'n_estimators': [50, 100, 200],\n",
    "    'learning_rate': [0.01, 0.1, 0.3]\n",
    "}\n",
    "\n",
    "grid_search = GridSearchCV(estimator=xgb.XGBClassifier(random_state=42),\n",
    "                           param_grid=param_grid, cv=5, scoring='accuracy')\n",
    "grid_search.fit(X_train, y_train)\n",
    "\n",
    "print(f\"최적 파라미터: {grid_search.best_params_}\")\n",
    "best_xgb_model = grid_search.best_estimator_\n",
    "\n",
    "# 최적 모델로 예측 수행 및 평가\n",
    "xgb_predictions_gs = best_xgb_model.predict(X_test)\n",
    "xgb_accuracy_gs = accuracy_score(y_test, xgb_predictions_gs)\n",
    "print(f\"최적 XGBoost 모델 정확도: {xgb_accuracy_gs}\")\n"
   ]
  },
  {
   "cell_type": "code",
   "execution_count": null,
   "metadata": {},
   "outputs": [],
   "source": [
    "from sklearn.model_selection import cross_val_score\n",
    "\n",
    "# 교차 검증\n",
    "cv_scores = cross_val_score(xgb_model, X_train, y_train, cv=5, scoring='accuracy')\n",
    "print(f\"5-겹 교차 검증 정확도: {cv_scores.mean()}\")\n"
   ]
  },
  {
   "cell_type": "code",
   "execution_count": null,
   "metadata": {},
   "outputs": [],
   "source": [
    "from keras.models import Sequential\n",
    "from keras.layers import Dense\n",
    "\n",
    "# 신경망 모델 구축\n",
    "model = Sequential()\n",
    "model.add(Dense(64, input_dim=X_train.shape[1], activation='relu'))\n",
    "model.add(Dense(32, activation='relu'))\n",
    "model.add(Dense(1, activation='sigmoid'))  # 이진 분류의 경우 sigmoid 사용\n",
    "\n",
    "# 모델 컴파일\n",
    "model.compile(loss='binary_crossentropy', optimizer='adam', metrics=['accuracy'])\n",
    "\n",
    "# 모델 학습\n",
    "model.fit(X_train, y_train, epochs=50, batch_size=32, validation_split=0.2)\n",
    "\n",
    "# 모델 평가\n",
    "_, accuracy = model.evaluate(X_test, y_test)\n",
    "print(f\"신경망 모델 정확도: {accuracy}\")\n"
   ]
  },
  {
   "cell_type": "code",
   "execution_count": null,
   "metadata": {},
   "outputs": [],
   "source": [
    "from sklearn.feature_selection import RFE\n",
    "\n",
    "# XGBoost 모델 기반 RFE\n",
    "selector = RFE(xgb_model, n_features_to_select=10)\n",
    "selector = selector.fit(X_train, y_train)\n",
    "\n",
    "# 선택된 특징으로 다시 모델 학습\n",
    "X_train_selected = selector.transform(X_train)\n",
    "X_test_selected = selector.transform(X_test)\n",
    "\n",
    "xgb_model.fit(X_train_selected, y_train)\n",
    "predictions = xgb_model.predict(X_test_selected)\n",
    "accuracy = accuracy_score(y_test, predictions)\n",
    "print(f\"특징 선택 후 XGBoost 모델 정확도: {accuracy}\")\n"
   ]
  }
 ],
 "metadata": {
  "kernelspec": {
   "display_name": "Python 3",
   "language": "python",
   "name": "python3"
  },
  "language_info": {
   "codemirror_mode": {
    "name": "ipython",
    "version": 3
   },
   "file_extension": ".py",
   "mimetype": "text/x-python",
   "name": "python",
   "nbconvert_exporter": "python",
   "pygments_lexer": "ipython3",
   "version": "3.11.9"
  }
 },
 "nbformat": 4,
 "nbformat_minor": 2
}
